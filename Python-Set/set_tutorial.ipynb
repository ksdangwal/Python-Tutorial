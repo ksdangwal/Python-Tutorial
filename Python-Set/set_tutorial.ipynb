{
 "cells": [
  {
   "cell_type": "markdown",
   "metadata": {},
   "source": [
    "# Python Set Tutorial"
   ]
  },
  {
   "cell_type": "markdown",
   "metadata": {},
   "source": [
    "#### Set Data Type\n",
    "\n",
    "A set is a collection which is unordered and unindexed. In Python sets are written with curly brackets.\n",
    "\n",
    "Any immutable data type can be an element of a set: a number, a string, a tuple. Mutable (changeable) data types cannot be elements of the set. In particular, list cannot be an element of a set (but tuple can), and another set cannot be an element of a set.\n",
    "\n",
    "#### Note: Sets are unordered, so the items will appear in a random order."
   ]
  },
  {
   "cell_type": "markdown",
   "metadata": {},
   "source": [
    "#### How to define set"
   ]
  },
  {
   "cell_type": "code",
   "execution_count": 22,
   "metadata": {},
   "outputs": [
    {
     "name": "stdout",
     "output_type": "stream",
     "text": [
      "{1, 2, 3, 'a'}\n",
      "{1, 2, 3, 'a'}\n",
      "{}\n"
     ]
    }
   ],
   "source": [
    "# Method 1 - Set must enclosed with curly bracket\n",
    "\n",
    "s1 = {1, 2, 3, 'a'}\n",
    "print(s1)\n",
    "\n",
    "# Method 2 - Set elements may be a list\n",
    "\n",
    "s2 = set([1, 2, 3, 'a'])\n",
    "print(s2)\n",
    "\n",
    "# Method 3 - Empty Set\n",
    "\n",
    "s3 = {}\n",
    "print(s3)"
   ]
  },
  {
   "cell_type": "code",
   "execution_count": 23,
   "metadata": {},
   "outputs": [
    {
     "name": "stdout",
     "output_type": "stream",
     "text": [
      "{1, 2, 3, 'a'}\n",
      "{'y', 'q', 'e', 'w', 'r', 't'}\n",
      "{'qwerty'}\n"
     ]
    },
    {
     "ename": "TypeError",
     "evalue": "set expected at most 1 arguments, got 2",
     "output_type": "error",
     "traceback": [
      "\u001b[1;31m---------------------------------------------------------------------------\u001b[0m",
      "\u001b[1;31mTypeError\u001b[0m                                 Traceback (most recent call last)",
      "\u001b[1;32m<ipython-input-23-8b445a3baeab>\u001b[0m in \u001b[0;36m<module>\u001b[1;34m()\u001b[0m\n\u001b[0;32m     16\u001b[0m \u001b[1;31m# Method 7 - Set must have only one arguments # Find error for more clarifiction.\u001b[0m\u001b[1;33m\u001b[0m\u001b[1;33m\u001b[0m\u001b[0m\n\u001b[0;32m     17\u001b[0m \u001b[1;33m\u001b[0m\u001b[0m\n\u001b[1;32m---> 18\u001b[1;33m \u001b[0ms7\u001b[0m \u001b[1;33m=\u001b[0m \u001b[0mset\u001b[0m\u001b[1;33m(\u001b[0m\u001b[1;33m[\u001b[0m\u001b[1;34m'qwerty'\u001b[0m\u001b[1;33m]\u001b[0m\u001b[1;33m,\u001b[0m \u001b[1;33m(\u001b[0m\u001b[1;34m'a'\u001b[0m\u001b[1;33m,\u001b[0m \u001b[1;34m'b'\u001b[0m\u001b[1;33m)\u001b[0m\u001b[1;33m)\u001b[0m\u001b[1;33m\u001b[0m\u001b[0m\n\u001b[0m\u001b[0;32m     19\u001b[0m \u001b[0mprint\u001b[0m\u001b[1;33m(\u001b[0m\u001b[0ms7\u001b[0m\u001b[1;33m)\u001b[0m\u001b[1;33m\u001b[0m\u001b[0m\n",
      "\u001b[1;31mTypeError\u001b[0m: set expected at most 1 arguments, got 2"
     ]
    }
   ],
   "source": [
    "# Method 4 - Set elements may be a tuple\n",
    "\n",
    "s4 = set((1, 2, 3, 'a'))\n",
    "print(s4)\n",
    "\n",
    "# Method 5\n",
    "\n",
    "s5 = set(('qwerty'))\n",
    "print(s5)\n",
    "\n",
    "# Method 6\n",
    "\n",
    "s6 = set(['qwerty'])\n",
    "print(s6)\n",
    "\n",
    "# Method 7 - Set must have only one arguments # Find error for more clarifiction.\n",
    "\n",
    "s7 = set(['qwerty'], ('a', 'b'))\n",
    "print(s7)         "
   ]
  },
  {
   "cell_type": "markdown",
   "metadata": {},
   "source": [
    "#### Comparision of Sets"
   ]
  },
  {
   "cell_type": "code",
   "execution_count": 39,
   "metadata": {},
   "outputs": [
    {
     "name": "stdout",
     "output_type": "stream",
     "text": [
      "True\n",
      "{'l', 'e', 'H', 'o'} <class 'set'>\n",
      "{'Hello'} <class 'set'>\n",
      "False\n",
      "False True True False\n"
     ]
    }
   ],
   "source": [
    "# Comparing to set\n",
    "\n",
    "# Example 1\n",
    "\n",
    "A = {1, 2, 3}\n",
    "B = {3, 2, 1}\n",
    "\n",
    "print(A == B)\n",
    "\n",
    "# Example 2\n",
    "\n",
    "X = set(('Hello'))\n",
    "print(X, type(X))\n",
    "\n",
    "Y = set(['Hello'])\n",
    "print(Y, type(Y))\n",
    "\n",
    "print(X == Y)\n",
    "\n",
    "# Check element present in set\n",
    "\n",
    "print('a' in A, 1 in A, 3 in B, 'c' in B)"
   ]
  },
  {
   "cell_type": "markdown",
   "metadata": {},
   "source": [
    "#### Access Items\n",
    "\n",
    "You cannot access items in a set by referring to an index, since sets are unordered the items has no index.\n",
    "\n",
    "But you can loop through the set items using a for loop, or ask if a specified value is present in a set, by using the in keyword."
   ]
  },
  {
   "cell_type": "code",
   "execution_count": 50,
   "metadata": {},
   "outputs": [
    {
     "name": "stdout",
     "output_type": "stream",
     "text": [
      "mango - length of string - 5\n",
      "banana - length of string - 6\n",
      "apple - length of string - 5\n",
      "orange - length of string - 6\n"
     ]
    }
   ],
   "source": [
    "fruits = {'apple', 'banana', 'mango', 'orange'}\n",
    "\n",
    "# Access set item by index\n",
    "# fruits[0] -- TypeError: 'set' object does not support indexing\n",
    "\n",
    "# Access set item by for loop \n",
    "\n",
    "for f in fruits :\n",
    "    print(f, '- length of string -', len(f))"
   ]
  },
  {
   "cell_type": "markdown",
   "metadata": {},
   "source": [
    "#### Change Items\n",
    "\n",
    "Once a set is created, you cannot change its items, but you can add new items."
   ]
  },
  {
   "cell_type": "markdown",
   "metadata": {},
   "source": [
    "#### Add Items\n",
    "\n",
    "To add one item to a set use the add() method.\n",
    "\n",
    "To add more than one item to a set use the update() method"
   ]
  },
  {
   "cell_type": "code",
   "execution_count": 52,
   "metadata": {
    "scrolled": true
   },
   "outputs": [
    {
     "name": "stdout",
     "output_type": "stream",
     "text": [
      "Add Method - {'banana', 'orange', 'mango', 'grapes', 'cherry', 'papaya', 'apple'}\n",
      "Update Method - {'banana', 'orange', 'mango', 'grapes', 'cherry', 'papaya', 'apple'}\n"
     ]
    }
   ],
   "source": [
    "# Add items in set\n",
    "\n",
    "fruits.add('cherry')\n",
    "print('Add Method -', fruits)\n",
    "\n",
    "# update items in set\n",
    "\n",
    "fruits.update(['grapes', 'papaya', 'apple'])\n",
    "print('Update Method -', fruits)"
   ]
  },
  {
   "cell_type": "markdown",
   "metadata": {},
   "source": [
    "#### Get the Length of a Set\n",
    "\n",
    "To determine how many items a set have, use the len() method."
   ]
  },
  {
   "cell_type": "code",
   "execution_count": 44,
   "metadata": {},
   "outputs": [
    {
     "name": "stdout",
     "output_type": "stream",
     "text": [
      "length - 7\n"
     ]
    }
   ],
   "source": [
    "# length of list \n",
    "\n",
    "print('length -', len(fruits))"
   ]
  },
  {
   "cell_type": "markdown",
   "metadata": {},
   "source": [
    "#### Remove Item\n",
    "\n",
    "To remove an item in a set, use the remove(), or the discard() method.\n",
    "\n",
    "##### Note: If the item to remove does not exist, remove() will raise an error.\n",
    "\n",
    "##### Note: Note: If the item to remove does not exist, discard() will NOT raise an error.\n",
    "\n",
    "You can also use the pop(), method to remove an item, but this method will remove the last item. Remember that sets are unordered, so you will not know what item that gets removed.\n",
    "\n",
    "The return value of the pop() method is the removed item."
   ]
  },
  {
   "cell_type": "code",
   "execution_count": 66,
   "metadata": {},
   "outputs": [
    {
     "name": "stdout",
     "output_type": "stream",
     "text": [
      "{'banana', 'orange', 'mango', 'grapes', 'cherry', 'papaya', 'apple', 'apple2'}\n",
      "{'banana', 'orange', 'mango', 'grapes', 'cherry', 'papaya', 'apple'}\n"
     ]
    },
    {
     "ename": "KeyError",
     "evalue": "'apple2'",
     "output_type": "error",
     "traceback": [
      "\u001b[1;31m---------------------------------------------------------------------------\u001b[0m",
      "\u001b[1;31mKeyError\u001b[0m                                  Traceback (most recent call last)",
      "\u001b[1;32m<ipython-input-66-f50bf0449c9d>\u001b[0m in \u001b[0;36m<module>\u001b[1;34m()\u001b[0m\n\u001b[0;32m      7\u001b[0m \u001b[0mprint\u001b[0m\u001b[1;33m(\u001b[0m\u001b[0mfruits\u001b[0m\u001b[1;33m)\u001b[0m\u001b[1;33m\u001b[0m\u001b[0m\n\u001b[0;32m      8\u001b[0m \u001b[1;33m\u001b[0m\u001b[0m\n\u001b[1;32m----> 9\u001b[1;33m \u001b[0mfruits\u001b[0m\u001b[1;33m.\u001b[0m\u001b[0mremove\u001b[0m\u001b[1;33m(\u001b[0m\u001b[1;34m'apple2'\u001b[0m\u001b[1;33m)\u001b[0m\u001b[1;33m\u001b[0m\u001b[0m\n\u001b[0m\u001b[0;32m     10\u001b[0m \u001b[0mprint\u001b[0m\u001b[1;33m(\u001b[0m\u001b[0mfruits\u001b[0m\u001b[1;33m)\u001b[0m\u001b[1;33m\u001b[0m\u001b[0m\n",
      "\u001b[1;31mKeyError\u001b[0m: 'apple2'"
     ]
    }
   ],
   "source": [
    "fruits.add('apple2')\n",
    "print(fruits)\n",
    "\n",
    "# remove() method\n",
    "\n",
    "fruits.remove('apple2')\n",
    "print(fruits)\n",
    "\n",
    "fruits.remove('apple2')\n",
    "print(fruits)"
   ]
  },
  {
   "cell_type": "code",
   "execution_count": 67,
   "metadata": {},
   "outputs": [
    {
     "name": "stdout",
     "output_type": "stream",
     "text": [
      "{'banana', 'orange', 'mango', 'grapes', 'cherry', 'papaya', 'apple', 'apple2'}\n",
      "{'banana', 'orange', 'mango', 'grapes', 'cherry', 'papaya', 'apple'}\n",
      "{'banana', 'orange', 'mango', 'grapes', 'cherry', 'papaya', 'apple'}\n"
     ]
    }
   ],
   "source": [
    "fruits.add('apple2')\n",
    "print(fruits)\n",
    "\n",
    "# remove() method\n",
    "\n",
    "fruits.discard('apple2')\n",
    "print(fruits)\n",
    "\n",
    "fruits.discard('apple2')\n",
    "print(fruits)"
   ]
  },
  {
   "cell_type": "code",
   "execution_count": 71,
   "metadata": {},
   "outputs": [
    {
     "name": "stdout",
     "output_type": "stream",
     "text": [
      "{'mango', 'grapes', 'cherry', 'papaya', 'apple', 'apple2'}\n",
      "mango\n",
      "{'grapes', 'cherry', 'papaya', 'apple', 'apple2'}\n"
     ]
    }
   ],
   "source": [
    "fruits.add('apple2')\n",
    "print(fruits)\n",
    "\n",
    "# pop() method\n",
    "\n",
    "print(fruits.pop())\n",
    "print(fruits)"
   ]
  },
  {
   "cell_type": "markdown",
   "metadata": {},
   "source": [
    "#### The clear() method empties the set.\n",
    "\n",
    "#### The del keyword will delete the set completely"
   ]
  },
  {
   "cell_type": "code",
   "execution_count": 83,
   "metadata": {},
   "outputs": [
    {
     "name": "stdout",
     "output_type": "stream",
     "text": [
      "{'banana', 'orange', 'mango', 'grapes', 'cherry', 'papaya', 'apple', 'apple2'}\n",
      "None\n"
     ]
    },
    {
     "ename": "NameError",
     "evalue": "name 'FR' is not defined",
     "output_type": "error",
     "traceback": [
      "\u001b[1;31m---------------------------------------------------------------------------\u001b[0m",
      "\u001b[1;31mNameError\u001b[0m                                 Traceback (most recent call last)",
      "\u001b[1;32m<ipython-input-83-5f096cc4b800>\u001b[0m in \u001b[0;36m<module>\u001b[1;34m()\u001b[0m\n\u001b[0;32m      8\u001b[0m \u001b[1;31m# delete() Method\u001b[0m\u001b[1;33m\u001b[0m\u001b[1;33m\u001b[0m\u001b[0m\n\u001b[0;32m      9\u001b[0m \u001b[1;32mdel\u001b[0m \u001b[0mFR\u001b[0m\u001b[1;33m\u001b[0m\u001b[0m\n\u001b[1;32m---> 10\u001b[1;33m \u001b[0mprint\u001b[0m\u001b[1;33m(\u001b[0m\u001b[0mFR\u001b[0m\u001b[1;33m)\u001b[0m\u001b[1;33m\u001b[0m\u001b[0m\n\u001b[0m",
      "\u001b[1;31mNameError\u001b[0m: name 'FR' is not defined"
     ]
    }
   ],
   "source": [
    "FR = set(['banana', 'orange', 'mango', 'grapes', 'cherry', 'papaya', 'apple', 'apple2'])\n",
    "print(FR)\n",
    "\n",
    "# clear() Method\n",
    "print(FR.clear())\n",
    "type(FR)\n",
    "\n",
    "# delete() Method\n",
    "del FR\n",
    "print(FR)"
   ]
  },
  {
   "cell_type": "markdown",
   "metadata": {},
   "source": [
    "#### More operation in Sets"
   ]
  },
  {
   "cell_type": "code",
   "execution_count": 91,
   "metadata": {},
   "outputs": [
    {
     "name": "stdout",
     "output_type": "stream",
     "text": [
      "{'cherry', 'papaya', 'banana', 'apple', 'orange', 'mango', 'grapes', 'lemon'}\n",
      "{'cherry', 'papaya', 'banana', 'apple', 'orange', 'mango', 'grapes', 'lemon'}\n",
      "{'apple'}\n",
      "{'lemon', 'mango', 'banana', 'orange'}\n",
      "{'cherry', 'grapes', 'papaya'}\n"
     ]
    }
   ],
   "source": [
    "A = {'banana', 'orange', 'mango', 'apple', 'lemon'}\n",
    "B = {'grapes', 'cherry', 'papaya', 'apple'}\n",
    "\n",
    "# Method - Union\n",
    "\n",
    "print(A | B)\n",
    "print(A.union(B))\n",
    "\n",
    "# Method - Intersection\n",
    "\n",
    "print(A & B)\n",
    "print(A - B)\n",
    "print(B - A)"
   ]
  }
 ],
 "metadata": {
  "kernelspec": {
   "display_name": "Python 3",
   "language": "python",
   "name": "python3"
  },
  "language_info": {
   "codemirror_mode": {
    "name": "ipython",
    "version": 3
   },
   "file_extension": ".py",
   "mimetype": "text/x-python",
   "name": "python",
   "nbconvert_exporter": "python",
   "pygments_lexer": "ipython3",
   "version": "3.6.5"
  }
 },
 "nbformat": 4,
 "nbformat_minor": 2
}
