{
 "cells": [
  {
   "cell_type": "markdown",
   "metadata": {},
   "source": [
    "# Python function tutorial\n",
    "\n",
    "\n",
    "* A function is a block of code which only runs when it is called.\n",
    "* We can pass data, known as parameters, into a function.\n",
    "* A function can return data as a result."
   ]
  },
  {
   "cell_type": "markdown",
   "metadata": {},
   "source": [
    "#### Creating a Function\n",
    "\n",
    "In Python a function is defined using the def keyword:"
   ]
  },
  {
   "cell_type": "code",
   "execution_count": 1,
   "metadata": {},
   "outputs": [
    {
     "data": {
      "text/plain": [
       "40"
      ]
     },
     "execution_count": 1,
     "metadata": {},
     "output_type": "execute_result"
    }
   ],
   "source": [
    "n1 = 15\n",
    "n2 = 25\n",
    "\n",
    "def addNumbers(a, b) :\n",
    "    c = a + b\n",
    "    return c\n",
    "\n",
    "addNumbers(n1, n2)\n"
   ]
  },
  {
   "cell_type": "markdown",
   "metadata": {},
   "source": [
    "#### The range() function \n",
    "\n",
    "range() function returns a sequence of numbers, starting from 0 by default, and increments by 1 (by default), and ends at a specified number.\n",
    "\n",
    "##### Syntax :- range(start, stop, step)"
   ]
  },
  {
   "cell_type": "code",
   "execution_count": 2,
   "metadata": {},
   "outputs": [
    {
     "name": "stdout",
     "output_type": "stream",
     "text": [
      "range(0, 5)\n",
      "0\n",
      "3\n",
      "6\n",
      "9\n",
      "12\n",
      "15\n",
      "18\n"
     ]
    }
   ],
   "source": [
    "n = range(5)\n",
    "print(n)\n",
    "\n",
    "m = range(0, 20, 3)\n",
    "\n",
    "for x in m :\n",
    "    print(x)\n"
   ]
  },
  {
   "cell_type": "markdown",
   "metadata": {},
   "source": [
    "#### Function with implicit argument \n",
    "\n",
    "implicit argument mean function with default value"
   ]
  },
  {
   "cell_type": "code",
   "execution_count": 3,
   "metadata": {},
   "outputs": [
    {
     "name": "stdout",
     "output_type": "stream",
     "text": [
      "I am from Inda\n",
      "I am from China\n",
      "I am from USA\n",
      "I am from UK\n",
      "I am from Canada\n",
      "I am from India\n",
      "I am from India\n"
     ]
    }
   ],
   "source": [
    "def getCountry(country = 'India') :\n",
    "    countryText = 'I am from ' + country\n",
    "    print(countryText)\n",
    "    #return countryText\n",
    "\n",
    "getCountry('Inda')\n",
    "getCountry('China')\n",
    "getCountry('USA')\n",
    "getCountry('UK')\n",
    "getCountry('Canada')\n",
    "getCountry()\n",
    "getCountry()"
   ]
  },
  {
   "cell_type": "markdown",
   "metadata": {},
   "source": [
    "#### Function with unknown (not known) arguments"
   ]
  },
  {
   "cell_type": "code",
   "execution_count": 4,
   "metadata": {},
   "outputs": [
    {
     "data": {
      "text/plain": [
       "25"
      ]
     },
     "execution_count": 4,
     "metadata": {},
     "output_type": "execute_result"
    }
   ],
   "source": [
    "def addNumber(* args) :\n",
    "    sum = 0\n",
    "    \n",
    "    for x in args :\n",
    "        sum += x\n",
    "    return sum\n",
    "        \n",
    "addNumber(1, 3, 5, 7, 9)        \n",
    "    "
   ]
  },
  {
   "cell_type": "markdown",
   "metadata": {},
   "source": [
    "#### Factorial Program"
   ]
  },
  {
   "cell_type": "code",
   "execution_count": 5,
   "metadata": {},
   "outputs": [
    {
     "data": {
      "text/plain": [
       "120"
      ]
     },
     "execution_count": 5,
     "metadata": {},
     "output_type": "execute_result"
    }
   ],
   "source": [
    "def getFactorial(n) :\n",
    "    \n",
    "    result = 1\n",
    "    \n",
    "    for x in range(1, n+1) :\n",
    "        result = x * result\n",
    "    return result    \n",
    "\n",
    "getFactorial(5)    "
   ]
  },
  {
   "cell_type": "markdown",
   "metadata": {},
   "source": [
    "#### Python Lambda\n",
    "\n",
    "* A lambda function is a small anonymous function.\n",
    "* A lambda function can take any number of arguments, but can only have one expression.\n",
    "\n",
    "##### Syntax :-  lambda arguments : expression"
   ]
  },
  {
   "cell_type": "code",
   "execution_count": 1,
   "metadata": {},
   "outputs": [
    {
     "name": "stdout",
     "output_type": "stream",
     "text": [
      "25\n",
      "Square of 25 is : 625\n"
     ]
    }
   ],
   "source": [
    "# Example :- lambda function to get square of a number\n",
    "\n",
    "square = lambda x : x * x\n",
    "\n",
    "# input() function datatype is string\n",
    "num = input()\n",
    "\n",
    "# typecast :- for airthmatic operation, we've to convert in integer datatype \n",
    "num = int(num) \n",
    "\n",
    "print('Square of', num, 'is :', square(num))"
   ]
  },
  {
   "cell_type": "code",
   "execution_count": 37,
   "metadata": {},
   "outputs": [
    {
     "name": "stdout",
     "output_type": "stream",
     "text": [
      "25\n",
      "96\n",
      "Sum of 25 and 96 is : 121\n"
     ]
    }
   ],
   "source": [
    "# Example :- lambda function to get sum of two numbers\n",
    "\n",
    "sum = lambda x, y : x + y\n",
    "\n",
    "n1 = input()\n",
    "n1 = int(n1)\n",
    "\n",
    "n2 = input()\n",
    "n2 = int(n2)\n",
    "\n",
    "print('Sum of', n1, 'and', n2, 'is :', sum(n1, n2))"
   ]
  },
  {
   "cell_type": "markdown",
   "metadata": {},
   "source": [
    "### map() Function\n",
    "\n",
    "#### Definition and Usage\n",
    "\n",
    "The map() function executes a specified function for each item in a iterable. The item is sent to the function as a parameter.\n",
    "\n",
    "map() function returns a list of the results after applying the given function to each item of a given iterable (list, tuple etc.)\n",
    "\n",
    "##### Syntax :-  map(function, iterables)\n",
    "\n",
    "NOTE : The returned value from map() (map object) then can be passed to functions like list() (to create a list), set() (to create a set) ."
   ]
  },
  {
   "cell_type": "code",
   "execution_count": 13,
   "metadata": {},
   "outputs": [
    {
     "name": "stdout",
     "output_type": "stream",
     "text": [
      "[1, 4, 9, 16, 25]\n",
      "[1, 4, 9, 16, 25]\n"
     ]
    }
   ],
   "source": [
    "# Example :- Square of numbers\n",
    "\n",
    "def squareNum(n) :\n",
    "    return n * n\n",
    "\n",
    "numbers = [1, 2, 3, 4, 5]\n",
    "\n",
    "mapResult = map(squareNum, numbers)\n",
    "\n",
    "print(list(mapResult))\n",
    "\n",
    "# Example :- Square of numbers using lambda function\n",
    "\n",
    "result = map((lambda x : x * x), numbers)\n",
    "print(list(result))"
   ]
  },
  {
   "cell_type": "code",
   "execution_count": 24,
   "metadata": {},
   "outputs": [
    {
     "name": "stdout",
     "output_type": "stream",
     "text": [
      "[5, 7, 9]\n"
     ]
    }
   ],
   "source": [
    "# Example :- Add two lists using map and lambda \n",
    "\n",
    "num1 = [1, 2, 3]\n",
    "num2 = [4, 5, 6]\n",
    "\n",
    "sumNumber = map((lambda x, y : x + y), num1, num2)\n",
    "\n",
    "print(list(sumNumber))"
   ]
  },
  {
   "cell_type": "markdown",
   "metadata": {},
   "source": [
    "### filter() Function\n",
    "\n",
    "The filter() method filters the given sequence with the help of a function that tests each element is accepted or not.\n",
    "\n",
    "##### Syntax :- filter(function, iterable)"
   ]
  },
  {
   "cell_type": "code",
   "execution_count": 35,
   "metadata": {},
   "outputs": [
    {
     "name": "stdout",
     "output_type": "stream",
     "text": [
      "<filter object at 0x0000000C90150CF8>\n",
      "a\n",
      "i\n",
      "e\n",
      "i\n",
      "['a', 'i', 'e', 'i']\n"
     ]
    }
   ],
   "source": [
    "# Exmaple - function that filters vowels\n",
    "\n",
    "series = ['a', 'i', 'd', 'f', 'x', 'e', 'i', 'l', 'k', 'j']\n",
    "\n",
    "vowel = ['a', 'e', 'i', 'o', 'u']\n",
    "\n",
    "def filterVowel(l) :\n",
    "    if(l in vowel) :\n",
    "        return True\n",
    "    else : \n",
    "        return False\n",
    "        \n",
    "result = filter(filterVowel, series)\n",
    "print(result)\n",
    "\n",
    "# Create a blank list\n",
    "resList = []\n",
    "\n",
    "for res in result :\n",
    "    print(res)\n",
    "    resList.append(res)\n",
    "    \n",
    "print(l)    "
   ]
  }
 ],
 "metadata": {
  "kernelspec": {
   "display_name": "Python 3",
   "language": "python",
   "name": "python3"
  },
  "language_info": {
   "codemirror_mode": {
    "name": "ipython",
    "version": 3
   },
   "file_extension": ".py",
   "mimetype": "text/x-python",
   "name": "python",
   "nbconvert_exporter": "python",
   "pygments_lexer": "ipython3",
   "version": "3.6.5"
  }
 },
 "nbformat": 4,
 "nbformat_minor": 2
}
